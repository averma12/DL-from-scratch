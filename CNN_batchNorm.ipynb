{
 "cells": [
  {
   "cell_type": "code",
   "execution_count": 1,
   "metadata": {},
   "outputs": [
    {
     "name": "stdout",
     "output_type": "stream",
     "text": [
      "Collecting package metadata: done\n",
      "Solving environment: done\n",
      "\n",
      "## Package Plan ##\n",
      "\n",
      "  environment location: /Users/abhinavverma/anaconda3\n",
      "\n",
      "  added / updated specs:\n",
      "    - pytorch-nightly\n",
      "\n",
      "\n",
      "The following packages will be downloaded:\n",
      "\n",
      "    package                    |            build\n",
      "    ---------------------------|-----------------\n",
      "    conda-4.6.11               |           py37_0         1.7 MB\n",
      "    ninja-1.9.0                |   py37h04f5b5a_0          96 KB\n",
      "    pytorch-nightly-1.0.0.dev20190405|          py3.7_0        47.7 MB  pytorch\n",
      "    ------------------------------------------------------------\n",
      "                                           Total:        49.5 MB\n",
      "\n",
      "The following NEW packages will be INSTALLED:\n",
      "\n",
      "  ninja              pkgs/main/osx-64::ninja-1.9.0-py37h04f5b5a_0\n",
      "  pytorch-nightly    pytorch/osx-64::pytorch-nightly-1.0.0.dev20190405-py3.7_0\n",
      "\n",
      "The following packages will be UPDATED:\n",
      "\n",
      "  conda                                        4.6.8-py37_0 --> 4.6.11-py37_0\n",
      "\n",
      "\n",
      "\n",
      "Downloading and Extracting Packages\n",
      "pytorch-nightly-1.0. | 47.7 MB   | ##################################### | 100% \n",
      "conda-4.6.11         | 1.7 MB    | ##################################### | 100% \n",
      "ninja-1.9.0          | 96 KB     | ##################################### | 100% \n",
      "Preparing transaction: done\n",
      "Verifying transaction: done\n",
      "Executing transaction: done\n"
     ]
    }
   ],
   "source": [
    "! conda install pytorch-nightly -c pytorch --yes"
   ]
  },
  {
   "cell_type": "code",
   "execution_count": null,
   "metadata": {},
   "outputs": [],
   "source": []
  }
 ],
 "metadata": {
  "kernelspec": {
   "display_name": "Python 3",
   "language": "python",
   "name": "python3"
  },
  "language_info": {
   "codemirror_mode": {
    "name": "ipython",
    "version": 3
   },
   "file_extension": ".py",
   "mimetype": "text/x-python",
   "name": "python",
   "nbconvert_exporter": "python",
   "pygments_lexer": "ipython3",
   "version": "3.7.1"
  }
 },
 "nbformat": 4,
 "nbformat_minor": 2
}
