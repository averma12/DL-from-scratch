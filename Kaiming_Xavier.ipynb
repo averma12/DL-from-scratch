{
  "nbformat": 4,
  "nbformat_minor": 0,
  "metadata": {
    "colab": {
      "name": "Kaiming_Xavier.ipynb",
      "version": "0.3.2",
      "provenance": [],
      "include_colab_link": true
    },
    "kernelspec": {
      "name": "python3",
      "display_name": "Python 3"
    },
    "accelerator": "GPU"
  },
  "cells": [
    {
      "cell_type": "markdown",
      "metadata": {
        "id": "view-in-github",
        "colab_type": "text"
      },
      "source": [
        "<a href=\"https://colab.research.google.com/github/averma12/DL-from-scratch/blob/master/Kaiming_Xavier.ipynb\" target=\"_parent\"><img src=\"https://colab.research.google.com/assets/colab-badge.svg\" alt=\"Open In Colab\"/></a>"
      ]
    },
    {
      "metadata": {
        "id": "x4WQ54511dOW",
        "colab_type": "code",
        "colab": {}
      },
      "cell_type": "code",
      "source": [
        "from pathlib import Path\n",
        "from IPython.core.debugger import set_trace\n",
        "from fastai import datasets\n",
        "import pickle,gzip,math,torch,matplotlib as mpl\n",
        "import matplotlib.pyplot as plt\n",
        "from torch import tensor\n",
        "\n",
        "MNIST_URL = \"http://deeplearning.net/data/mnist/mnist.pkl\""
      ],
      "execution_count": 0,
      "outputs": []
    },
    {
      "metadata": {
        "id": "XdtuQ7xWVmya",
        "colab_type": "code",
        "colab": {}
      },
      "cell_type": "code",
      "source": [
        "import math"
      ],
      "execution_count": 0,
      "outputs": []
    },
    {
      "metadata": {
        "id": "lbv9VJmA2IN8",
        "colab_type": "code",
        "colab": {
          "base_uri": "https://localhost:8080/",
          "height": 34
        },
        "outputId": "3055b04d-8856-49c4-95fa-d4bad5257ef7"
      },
      "cell_type": "code",
      "source": [
        "path = datasets.download_data(MNIST_URL, ext='.gz')\n",
        "path"
      ],
      "execution_count": 2,
      "outputs": [
        {
          "output_type": "execute_result",
          "data": {
            "text/plain": [
              "PosixPath('/root/.fastai/data/mnist.pkl.gz')"
            ]
          },
          "metadata": {
            "tags": []
          },
          "execution_count": 2
        }
      ]
    },
    {
      "metadata": {
        "id": "GVqPZNik2O_c",
        "colab_type": "code",
        "colab": {}
      },
      "cell_type": "code",
      "source": [
        "with gzip.open(path, 'rb') as f:\n",
        "    ((x_train, y_train), (x_valid, y_valid), _) = pickle.load(f, encoding='latin-1')"
      ],
      "execution_count": 0,
      "outputs": []
    },
    {
      "metadata": {
        "id": "iy_5zZOr2TOn",
        "colab_type": "code",
        "colab": {
          "base_uri": "https://localhost:8080/",
          "height": 221
        },
        "outputId": "c525e45c-dc82-41e2-c871-04ed1ddf201a"
      },
      "cell_type": "code",
      "source": [
        "x_train,y_train,x_valid,y_valid = map(tensor, (x_train,y_train,x_valid,y_valid))\n",
        "n,c = x_train.shape\n",
        "x_train, x_train.shape, y_train, y_train.shape, y_train.min(), y_train.max()"
      ],
      "execution_count": 4,
      "outputs": [
        {
          "output_type": "execute_result",
          "data": {
            "text/plain": [
              "(tensor([[0., 0., 0.,  ..., 0., 0., 0.],\n",
              "         [0., 0., 0.,  ..., 0., 0., 0.],\n",
              "         [0., 0., 0.,  ..., 0., 0., 0.],\n",
              "         ...,\n",
              "         [0., 0., 0.,  ..., 0., 0., 0.],\n",
              "         [0., 0., 0.,  ..., 0., 0., 0.],\n",
              "         [0., 0., 0.,  ..., 0., 0., 0.]]),\n",
              " torch.Size([50000, 784]),\n",
              " tensor([5, 0, 4,  ..., 8, 4, 8]),\n",
              " torch.Size([50000]),\n",
              " tensor(0),\n",
              " tensor(9))"
            ]
          },
          "metadata": {
            "tags": []
          },
          "execution_count": 4
        }
      ]
    },
    {
      "metadata": {
        "id": "zXc3Wr5-2YIM",
        "colab_type": "code",
        "colab": {}
      },
      "cell_type": "code",
      "source": [
        "mpl.rcParams['image.cmap'] = 'gray'"
      ],
      "execution_count": 0,
      "outputs": []
    },
    {
      "metadata": {
        "id": "NvxJLq4j2bwv",
        "colab_type": "code",
        "colab": {}
      },
      "cell_type": "code",
      "source": [
        "img = x_train[0]"
      ],
      "execution_count": 0,
      "outputs": []
    },
    {
      "metadata": {
        "id": "KrETAx_w2qC-",
        "colab_type": "code",
        "colab": {
          "base_uri": "https://localhost:8080/",
          "height": 34
        },
        "outputId": "ff945fc9-e0c2-44b3-dcd9-c205a84e765d"
      },
      "cell_type": "code",
      "source": [
        "type(img)"
      ],
      "execution_count": 7,
      "outputs": [
        {
          "output_type": "execute_result",
          "data": {
            "text/plain": [
              "torch.Tensor"
            ]
          },
          "metadata": {
            "tags": []
          },
          "execution_count": 7
        }
      ]
    },
    {
      "metadata": {
        "id": "gh_mz-s52uOD",
        "colab_type": "code",
        "colab": {
          "base_uri": "https://localhost:8080/",
          "height": 34
        },
        "outputId": "1089f7a0-2f68-4544-9d13-6a965c0cbb72"
      },
      "cell_type": "code",
      "source": [
        "img.shape"
      ],
      "execution_count": 8,
      "outputs": [
        {
          "output_type": "execute_result",
          "data": {
            "text/plain": [
              "torch.Size([784])"
            ]
          },
          "metadata": {
            "tags": []
          },
          "execution_count": 8
        }
      ]
    },
    {
      "metadata": {
        "id": "sRJEVYGv20PA",
        "colab_type": "code",
        "colab": {
          "base_uri": "https://localhost:8080/",
          "height": 364
        },
        "outputId": "d1c19711-0da3-4ee1-b963-d1fc23058708"
      },
      "cell_type": "code",
      "source": [
        "plt.imshow(img.view(28,28))"
      ],
      "execution_count": 9,
      "outputs": [
        {
          "output_type": "execute_result",
          "data": {
            "text/plain": [
              "<matplotlib.image.AxesImage at 0x7f522196ac50>"
            ]
          },
          "metadata": {
            "tags": []
          },
          "execution_count": 9
        },
        {
          "output_type": "display_data",
          "data": {
            "image/png": "[encoded data removed]",
            "text/plain": [
              "<Figure size 576x396 with 1 Axes>"
            ]
          },
          "metadata": {
            "tags": []
          }
        }
      ]
    },
    {
      "metadata": {
        "id": "ysEu6XBM3Gyy",
        "colab_type": "code",
        "colab": {}
      },
      "cell_type": "code",
      "source": [
        "from torch.nn import init,Conv2d"
      ],
      "execution_count": 0,
      "outputs": []
    },
    {
      "metadata": {
        "id": "zuzHxNtw69hL",
        "colab_type": "code",
        "colab": {}
      },
      "cell_type": "code",
      "source": [
        "??torch.nn.Conv2d"
      ],
      "execution_count": 0,
      "outputs": []
    },
    {
      "metadata": {
        "id": "DijNPngC7Q6J",
        "colab_type": "code",
        "colab": {}
      },
      "cell_type": "code",
      "source": [
        "torch.nn.modules.conv._ConvNd.reset_parameters??"
      ],
      "execution_count": 0,
      "outputs": []
    },
    {
      "metadata": {
        "id": "7oDgKq-X-sj4",
        "colab_type": "code",
        "colab": {}
      },
      "cell_type": "code",
      "source": [
        "nh = 32\n",
        "ll = Conv2d(1,nh,5) # 1 is the no of input channels,nh is the no of channels of the kernel and 5X5 is the size of the kernel"
      ],
      "execution_count": 0,
      "outputs": []
    },
    {
      "metadata": {
        "id": "Kd3lEwwsGOhV",
        "colab_type": "code",
        "colab": {}
      },
      "cell_type": "code",
      "source": [
        "#Normalize the images\n",
        "def normalize(x, m, s): return (x-m)/s"
      ],
      "execution_count": 0,
      "outputs": []
    },
    {
      "metadata": {
        "id": "JWoOKTkvGTXX",
        "colab_type": "code",
        "colab": {}
      },
      "cell_type": "code",
      "source": [
        "#x_train,y_train,x_valid,y_valid = get_data()\n",
        "train_mean,train_std = x_train.mean(),x_train.std()\n",
        "x_train = normalize(x_train, train_mean, train_std)\n",
        "x_valid = normalize(x_valid, train_mean, train_std)"
      ],
      "execution_count": 0,
      "outputs": []
    },
    {
      "metadata": {
        "id": "P-NdfviNHKv2",
        "colab_type": "code",
        "colab": {
          "base_uri": "https://localhost:8080/",
          "height": 34
        },
        "outputId": "4be94657-d318-4c04-83d9-c1031fd9c33a"
      },
      "cell_type": "code",
      "source": [
        "x_train = x_train.view(-1,1,28,28)\n",
        "x_valid = x_valid.view(-1,1,28,28)\n",
        "x_train.shape,x_valid.shape"
      ],
      "execution_count": 23,
      "outputs": [
        {
          "output_type": "execute_result",
          "data": {
            "text/plain": [
              "(torch.Size([50000, 1, 28, 28]), torch.Size([10000, 1, 28, 28]))"
            ]
          },
          "metadata": {
            "tags": []
          },
          "execution_count": 23
        }
      ]
    },
    {
      "metadata": {
        "id": "msq9hv6TGwP2",
        "colab_type": "code",
        "colab": {
          "base_uri": "https://localhost:8080/",
          "height": 34
        },
        "outputId": "749dea6a-22f7-41a8-bd39-e8b2f8793142"
      },
      "cell_type": "code",
      "source": [
        "n,*_ = x_train.shape # * is added to basically say all values after the first one are to be packed in this operator\n",
        "c = y_train.max() + 1\n",
        "n,c"
      ],
      "execution_count": 27,
      "outputs": [
        {
          "output_type": "execute_result",
          "data": {
            "text/plain": [
              "(50000, tensor(10))"
            ]
          },
          "metadata": {
            "tags": []
          },
          "execution_count": 27
        }
      ]
    },
    {
      "metadata": {
        "id": "wmIUyolSHXyj",
        "colab_type": "code",
        "colab": {}
      },
      "cell_type": "code",
      "source": [
        "l1 = Conv2d(1, nh, 5)"
      ],
      "execution_count": 0,
      "outputs": []
    },
    {
      "metadata": {
        "id": "_PMNzEdVHe8k",
        "colab_type": "code",
        "colab": {}
      },
      "cell_type": "code",
      "source": [
        "x = x_valid[:100]"
      ],
      "execution_count": 0,
      "outputs": []
    },
    {
      "metadata": {
        "id": "TQdyBx7yH2eS",
        "colab_type": "code",
        "colab": {
          "base_uri": "https://localhost:8080/",
          "height": 34
        },
        "outputId": "84362873-c451-4726-97bf-bd9b9ee23678"
      },
      "cell_type": "code",
      "source": [
        "x.shape"
      ],
      "execution_count": 31,
      "outputs": [
        {
          "output_type": "execute_result",
          "data": {
            "text/plain": [
              "torch.Size([100, 1, 28, 28])"
            ]
          },
          "metadata": {
            "tags": []
          },
          "execution_count": 31
        }
      ]
    },
    {
      "metadata": {
        "id": "RGFTTw2EH6Aq",
        "colab_type": "code",
        "colab": {}
      },
      "cell_type": "code",
      "source": [
        "def stats(x): return x.mean(),x.std()"
      ],
      "execution_count": 0,
      "outputs": []
    },
    {
      "metadata": {
        "id": "vUR6ZoY_ID7m",
        "colab_type": "code",
        "colab": {
          "base_uri": "https://localhost:8080/",
          "height": 51
        },
        "outputId": "a5e25f56-a347-4472-f55e-9d5173c7eeb0"
      },
      "cell_type": "code",
      "source": [
        "stats(l1.weight) #This doesn't seem right. The normalization is not correct"
      ],
      "execution_count": 33,
      "outputs": [
        {
          "output_type": "execute_result",
          "data": {
            "text/plain": [
              "(tensor(-0.0003, grad_fn=<MeanBackward1>),\n",
              " tensor(0.1194, grad_fn=<StdBackward0>))"
            ]
          },
          "metadata": {
            "tags": []
          },
          "execution_count": 33
        }
      ]
    },
    {
      "metadata": {
        "id": "Ggt8iyVAIGEN",
        "colab_type": "code",
        "colab": {
          "base_uri": "https://localhost:8080/",
          "height": 51
        },
        "outputId": "308d8b22-dd72-4c3c-c09c-a842d999a5bf"
      },
      "cell_type": "code",
      "source": [
        "stats(l1.bias) # The pattern repeats with the bias"
      ],
      "execution_count": 34,
      "outputs": [
        {
          "output_type": "execute_result",
          "data": {
            "text/plain": [
              "(tensor(0.0133, grad_fn=<MeanBackward1>),\n",
              " tensor(0.1114, grad_fn=<StdBackward0>))"
            ]
          },
          "metadata": {
            "tags": []
          },
          "execution_count": 34
        }
      ]
    },
    {
      "metadata": {
        "id": "0UYZ_NzEIZYF",
        "colab_type": "code",
        "colab": {}
      },
      "cell_type": "code",
      "source": [
        "t = l1(x)"
      ],
      "execution_count": 0,
      "outputs": []
    },
    {
      "metadata": {
        "id": "FeSW4_ahIa_V",
        "colab_type": "code",
        "colab": {
          "base_uri": "https://localhost:8080/",
          "height": 34
        },
        "outputId": "30cc5508-6f7e-440d-8b4f-3d9ce1ae7d36"
      },
      "cell_type": "code",
      "source": [
        "t.shape #100 for the total no of images,32 for the no of channels of the kernel\n",
        "#24,24 after the convolution operation (input_channels - kernel_channels + padding which is zero here/Strides) + 1 = 24"
      ],
      "execution_count": 38,
      "outputs": [
        {
          "output_type": "execute_result",
          "data": {
            "text/plain": [
              "torch.Size([100, 32, 24, 24])"
            ]
          },
          "metadata": {
            "tags": []
          },
          "execution_count": 38
        }
      ]
    },
    {
      "metadata": {
        "id": "OlgEusgZJDot",
        "colab_type": "code",
        "colab": {
          "base_uri": "https://localhost:8080/",
          "height": 51
        },
        "outputId": "72533dad-f297-446f-ff8a-184e8692f434"
      },
      "cell_type": "code",
      "source": [
        "#let's normalize t here\n",
        "stats(t) #mean is acceptable but std is definitely not"
      ],
      "execution_count": 39,
      "outputs": [
        {
          "output_type": "execute_result",
          "data": {
            "text/plain": [
              "(tensor(0.0134, grad_fn=<MeanBackward1>),\n",
              " tensor(0.5870, grad_fn=<StdBackward0>))"
            ]
          },
          "metadata": {
            "tags": []
          },
          "execution_count": 39
        }
      ]
    },
    {
      "metadata": {
        "id": "Te3PE8mCJrqE",
        "colab_type": "code",
        "colab": {
          "base_uri": "https://localhost:8080/",
          "height": 34
        },
        "outputId": "93505aad-644f-4589-d081-c43d8040d8cd"
      },
      "cell_type": "code",
      "source": [
        "ll.weight.shape"
      ],
      "execution_count": 41,
      "outputs": [
        {
          "output_type": "execute_result",
          "data": {
            "text/plain": [
              "torch.Size([32, 1, 5, 5])"
            ]
          },
          "metadata": {
            "tags": []
          },
          "execution_count": 41
        }
      ]
    },
    {
      "metadata": {
        "id": "1n-EV2BhJbvl",
        "colab_type": "code",
        "colab": {
          "base_uri": "https://localhost:8080/",
          "height": 51
        },
        "outputId": "47efa86f-4c61-4cdf-a9e0-fe3e653adaa8"
      },
      "cell_type": "code",
      "source": [
        "#Let's initialize with init.kaiming_normal according to the paper Diving deep into Rectifiers\n",
        "init.kaiming_normal_(l1.weight, a=1.)\n",
        "stats(l1(x)) #Let's normalize the equations again output shows kaiming_normal kinda works"
      ],
      "execution_count": 42,
      "outputs": [
        {
          "output_type": "execute_result",
          "data": {
            "text/plain": [
              "(tensor(0.0463, grad_fn=<MeanBackward1>),\n",
              " tensor(1.0816, grad_fn=<StdBackward0>))"
            ]
          },
          "metadata": {
            "tags": []
          },
          "execution_count": 42
        }
      ]
    },
    {
      "metadata": {
        "id": "1TbZMxtZKREu",
        "colab_type": "code",
        "colab": {}
      },
      "cell_type": "code",
      "source": [
        "import torch.nn.functional as F"
      ],
      "execution_count": 0,
      "outputs": []
    },
    {
      "metadata": {
        "id": "3rd8AG4XKwiA",
        "colab_type": "code",
        "colab": {}
      },
      "cell_type": "code",
      "source": [
        "def f1(x,a=0):\n",
        "    return F.leaky_relu(ll(x),a)"
      ],
      "execution_count": 0,
      "outputs": []
    },
    {
      "metadata": {
        "id": "J0fwL8gGLC1i",
        "colab_type": "code",
        "colab": {
          "base_uri": "https://localhost:8080/",
          "height": 3825
        },
        "outputId": "c609832d-a501-4200-f1f3-8bb4755ca6b3"
      },
      "cell_type": "code",
      "source": [
        "init.kaiming_normal_(ll.weight, a=0)"
      ],
      "execution_count": 47,
      "outputs": [
        {
          "output_type": "execute_result",
          "data": {
            "text/plain": [
              "Parameter containing:\n",
              "tensor([[[[ 1.5368e-01,  4.2842e-01, -8.2841e-02, -1.5413e-01, -8.4771e-02],\n",
              "          [-8.8782e-02, -1.7576e-01,  1.4056e-01, -3.7928e-01, -1.4373e-01],\n",
              "          [-5.4774e-02,  5.8700e-02, -2.3832e-02,  7.8265e-02,  3.8910e-01],\n",
              "          [ 2.1859e-01,  2.2084e-01, -4.7381e-01, -2.9494e-01,  3.5240e-01],\n",
              "          [ 9.7632e-02,  1.3063e-01, -7.0782e-01,  1.9888e-01, -2.1150e-01]]],\n",
              "\n",
              "\n",
              "        [[[ 4.4105e-01,  7.2861e-01,  1.1292e-01, -2.9689e-01, -2.6870e-01],\n",
              "          [-1.2448e-01,  2.6373e-01, -4.3393e-02, -7.3309e-02,  9.1287e-02],\n",
              "          [-1.8269e-01,  4.4844e-02,  8.8600e-02, -1.1403e-02, -4.2381e-02],\n",
              "          [-2.1392e-01,  4.7261e-01, -2.0508e-01, -4.2198e-01,  1.8159e-01],\n",
              "          [-3.2072e-01,  3.4755e-01,  2.5715e-01, -4.1033e-01, -2.7193e-01]]],\n",
              "\n",
              "\n",
              "        [[[-3.4705e-01,  3.2895e-01, -3.9321e-02,  1.7952e-01, -2.1252e-01],\n",
              "          [-6.6187e-02,  2.1632e-01,  3.9618e-01, -3.2289e-01, -2.1762e-01],\n",
              "          [-1.3508e-01,  7.3294e-02, -5.3991e-01,  3.9594e-01, -7.0331e-02],\n",
              "          [-2.0201e-01, -2.0590e-01, -1.2811e-01, -2.2325e-01,  7.0870e-02],\n",
              "          [ 2.2521e-01, -2.0266e-01, -6.0165e-02, -1.5935e-01, -7.4190e-01]]],\n",
              "\n",
              "\n",
              "        [[[ 4.4848e-01,  3.8415e-01, -1.1889e-01,  7.6204e-02, -3.0631e-01],\n",
              "          [-3.4459e-01, -3.8958e-01,  4.0925e-02,  5.6610e-01,  1.5462e-01],\n",
              "          [ 9.9248e-02,  6.0271e-01,  7.4457e-02,  2.9112e-01,  3.6732e-01],\n",
              "          [-4.0954e-01, -2.7789e-03, -3.6624e-01,  2.5885e-01, -1.3341e-01],\n",
              "          [ 5.1752e-02, -7.5597e-02, -1.2543e-01, -2.7021e-01, -5.8408e-02]]],\n",
              "\n",
              "\n",
              "        [[[-1.0194e-02, -4.7339e-01,  3.7228e-01,  1.1245e-01,  4.0340e-02],\n",
              "          [-7.0115e-02, -5.6650e-02,  2.1069e-01,  7.2371e-02, -5.4694e-02],\n",
              "          [-1.3023e-01, -1.3116e-01,  9.3355e-02, -2.9897e-01, -1.5897e-01],\n",
              "          [ 4.8696e-01, -4.3418e-01, -1.2027e-01,  3.8412e-01, -2.2264e-01],\n",
              "          [ 1.2576e-01,  6.3180e-02, -4.0199e-02, -5.8908e-01,  1.7765e-02]]],\n",
              "\n",
              "\n",
              "        [[[-1.5149e-01,  3.1261e-01,  4.4657e-01,  4.0790e-01,  1.9028e-03],\n",
              "          [ 4.1282e-01,  2.3835e-01, -1.4334e-01, -3.4907e-01,  9.6435e-01],\n",
              "          [-3.0295e-01, -1.2669e-01, -4.7330e-01, -2.5484e-01,  2.1160e-01],\n",
              "          [-5.9861e-02, -2.6809e-01,  2.6727e-01, -2.9486e-01,  9.6447e-02],\n",
              "          [-6.8111e-02, -1.4230e-01, -9.3368e-02, -3.1950e-01,  3.7946e-01]]],\n",
              "\n",
              "\n",
              "        [[[ 1.7261e-01, -2.1392e-01, -1.8625e-01,  1.4887e-01, -3.6106e-01],\n",
              "          [ 4.8963e-03, -3.1227e-01, -3.0225e-01,  2.1209e-01,  2.9236e-01],\n",
              "          [ 4.9330e-01,  4.3145e-01,  2.7250e-01, -6.0730e-02, -1.2194e-01],\n",
              "          [ 1.2057e-02, -2.1691e-01, -2.9420e-02,  2.9765e-01, -2.9389e-01],\n",
              "          [ 6.7702e-02,  2.0592e-01,  1.0119e-01,  2.5408e-02,  3.1654e-01]]],\n",
              "\n",
              "\n",
              "        [[[ 9.0638e-02,  2.1956e-01, -4.3599e-01, -9.1511e-02,  1.3026e-01],\n",
              "          [-5.6249e-02, -8.5738e-02, -1.9604e-01, -1.4994e-01,  1.2184e-01],\n",
              "          [ 1.6173e-01,  3.8667e-01, -1.5821e-01,  1.6806e-01, -4.8316e-02],\n",
              "          [-2.0670e-01, -8.7495e-02,  4.8462e-02,  1.8979e-02, -2.3912e-01],\n",
              "          [ 1.8082e-02, -2.5901e-01,  1.2126e-01, -3.4117e-01,  2.3305e-01]]],\n",
              "\n",
              "\n",
              "        [[[ 2.8253e-02, -1.7757e-01,  3.3409e-01,  2.2359e-01, -2.5061e-01],\n",
              "          [-4.0011e-01, -9.3847e-03,  1.4704e-01, -3.0778e-01,  4.3412e-02],\n",
              "          [-3.6637e-01, -5.4767e-01, -7.6294e-01,  2.6862e-01,  3.0158e-01],\n",
              "          [ 1.8095e-01, -8.4842e-02,  5.7422e-01, -7.8500e-02,  1.3994e-01],\n",
              "          [-1.1271e-01, -2.9179e-01, -1.3301e-01, -1.8446e-01, -5.8910e-02]]],\n",
              "\n",
              "\n",
              "        [[[-4.1533e-01, -1.6103e-01, -2.7705e-02,  1.0014e-01,  1.5987e-01],\n",
              "          [-1.7579e-01, -1.9006e-01, -7.2538e-02, -2.5116e-01, -4.6153e-01],\n",
              "          [-1.9659e-01, -1.6035e-01,  1.6498e-01, -1.3497e-01,  1.6029e-01],\n",
              "          [ 1.8840e-02, -3.1327e-01, -7.7859e-01,  6.1728e-01,  2.8305e-01],\n",
              "          [-5.2659e-01, -1.7454e-02,  7.5526e-01,  1.7561e-03,  1.2078e-01]]],\n",
              "\n",
              "\n",
              "        [[[-2.1311e-02,  9.4210e-02,  2.5237e-01,  3.7833e-01, -5.9182e-01],\n",
              "          [-3.1732e-01,  1.0973e-01,  2.0569e-01, -9.9036e-02, -5.4707e-02],\n",
              "          [-5.1255e-01, -2.4480e-03,  9.7998e-02, -9.5942e-02, -1.1871e-01],\n",
              "          [-2.4135e-01, -1.0892e-01,  1.7268e-01,  9.1904e-02, -7.8487e-02],\n",
              "          [-3.1499e-01, -1.3065e-01,  2.9697e-01,  3.0859e-01, -2.3467e-01]]],\n",
              "\n",
              "\n",
              "        [[[-1.7891e-01, -5.6807e-01, -2.3194e-01,  3.6605e-02,  7.1258e-02],\n",
              "          [-8.0326e-02,  7.0458e-02, -1.3515e-01,  1.6396e-02,  1.3197e-01],\n",
              "          [ 1.2809e-01, -1.3259e-02,  1.0171e-01,  1.1448e-01,  4.3240e-01],\n",
              "          [-1.9455e-01, -1.2757e-01, -4.6007e-02, -1.2763e-01,  7.0183e-02],\n",
              "          [ 8.5495e-02,  1.7713e-01,  1.0238e-01,  1.5027e-01, -7.4940e-02]]],\n",
              "\n",
              "\n",
              "        [[[-2.2837e-01, -1.0465e-02, -9.0986e-02, -3.0135e-01, -8.8820e-02],\n",
              "          [ 1.0614e-01,  5.6434e-01,  6.4057e-01,  1.8791e-01,  1.8067e-01],\n",
              "          [-2.1379e-01,  6.0962e-02, -2.1043e-01, -3.6929e-01, -2.1495e-01],\n",
              "          [-1.0012e-01, -1.7094e-01, -7.4030e-01,  6.1258e-01, -2.2805e-01],\n",
              "          [ 9.3084e-03, -2.7656e-01,  2.4524e-01,  3.7662e-01,  2.9898e-01]]],\n",
              "\n",
              "\n",
              "        [[[-7.0214e-02, -3.8006e-01,  2.0381e-02, -1.2466e-01,  2.1621e-01],\n",
              "          [ 4.0058e-02, -2.3592e-01, -4.2744e-01,  1.1496e-01, -6.6370e-02],\n",
              "          [ 4.1396e-01, -1.8524e-01, -2.7002e-02, -3.7112e-02, -4.1756e-03],\n",
              "          [-2.0511e-01,  1.4677e-01,  5.7688e-01, -3.7354e-01, -2.4797e-01],\n",
              "          [ 2.6317e-01,  1.3236e-01,  6.5677e-03, -1.3303e-01, -7.6701e-02]]],\n",
              "\n",
              "\n",
              "        [[[-2.1172e-01, -2.2005e-01,  5.7743e-02,  5.1397e-02, -6.0698e-02],\n",
              "          [ 2.4777e-01,  1.7028e-01,  4.1967e-01,  1.3770e-01, -3.7624e-01],\n",
              "          [-3.2549e-01, -2.5243e-01,  1.7534e-01,  1.7438e-02, -3.0349e-01],\n",
              "          [ 1.4896e-01,  2.2624e-01, -1.4869e-01, -3.4744e-01,  1.7784e-01],\n",
              "          [-4.8193e-01,  6.4912e-02,  6.4726e-01, -4.2018e-01,  8.8291e-02]]],\n",
              "\n",
              "\n",
              "        [[[-4.8875e-01, -1.1545e-01,  1.2976e-01, -4.7494e-02, -7.6423e-02],\n",
              "          [ 3.9322e-01, -1.7600e-01,  2.6572e-01,  1.1695e-02, -1.3740e-01],\n",
              "          [-2.0037e-01, -3.1994e-01,  1.7826e-01,  1.6894e-01, -3.0878e-01],\n",
              "          [ 2.2396e-01, -4.0481e-01,  6.1893e-01, -2.3493e-01, -4.3359e-01],\n",
              "          [ 1.8929e-01, -3.1557e-01, -4.6623e-01, -8.4277e-02,  1.5762e-01]]],\n",
              "\n",
              "\n",
              "        [[[-1.3078e-01,  1.4235e-01,  7.3865e-02, -7.0902e-02, -1.6854e-01],\n",
              "          [ 8.2502e-02, -4.6451e-01, -1.3584e-01,  3.6963e-02, -2.5388e-01],\n",
              "          [ 7.6887e-02,  1.8900e-01, -1.8399e-02,  1.3663e-01,  1.6178e-01],\n",
              "          [ 1.6510e-01,  5.6927e-02, -2.3982e-02,  2.5241e-01,  2.3597e-01],\n",
              "          [ 2.5507e-01,  5.6861e-02,  3.9151e-01, -2.3840e-01,  1.0106e-01]]],\n",
              "\n",
              "\n",
              "        [[[ 2.0722e-01,  7.7534e-02,  3.7185e-01,  4.9341e-01,  3.8562e-01],\n",
              "          [ 2.4395e-01, -7.0153e-02,  4.0206e-01, -1.3867e-01, -4.6464e-02],\n",
              "          [ 2.2780e-01,  1.1015e-01,  4.2436e-01,  4.2112e-02, -4.1262e-01],\n",
              "          [ 3.9490e-01, -4.8346e-01,  1.3290e-01, -3.6367e-01,  2.8485e-01],\n",
              "          [ 3.8683e-01, -6.1577e-02,  3.8957e-01, -3.1517e-01,  4.1330e-01]]],\n",
              "\n",
              "\n",
              "        [[[ 4.1711e-01,  3.5411e-01, -4.1502e-01,  1.4930e-01,  1.2501e-01],\n",
              "          [-3.0547e-02,  9.1769e-02,  1.9355e-01,  4.5975e-01, -3.9946e-01],\n",
              "          [ 4.1580e-01,  2.2700e-01, -1.2997e-01,  5.7006e-02,  1.5958e-01],\n",
              "          [ 1.2706e-02, -3.4080e-01,  5.1286e-02, -1.6786e-02,  3.4929e-01],\n",
              "          [-2.2189e-01,  2.5139e-01, -1.0906e-01,  3.1057e-03,  3.9589e-01]]],\n",
              "\n",
              "\n",
              "        [[[-3.3081e-01,  8.3204e-02,  6.8766e-02,  4.9492e-01,  3.0957e-01],\n",
              "          [ 3.2358e-01, -1.1294e-01,  2.6707e-01, -1.9275e-01,  9.6796e-02],\n",
              "          [ 5.1946e-02,  8.6437e-02, -7.5769e-01,  2.3740e-01,  3.8671e-01],\n",
              "          [-5.0191e-01,  2.2667e-01, -5.6034e-01, -2.0874e-01,  1.0227e-01],\n",
              "          [-1.8218e-01, -8.6951e-02, -4.0727e-01, -2.5848e-01,  3.8199e-01]]],\n",
              "\n",
              "\n",
              "        [[[-3.7908e-01,  7.5084e-02, -3.7814e-01,  8.7696e-02,  1.7692e-01],\n",
              "          [-1.6942e-01, -2.6481e-01,  8.5317e-02,  5.7018e-01, -1.3199e-01],\n",
              "          [ 5.0856e-01, -3.4281e-02, -1.0865e-01,  3.1539e-01,  8.1265e-02],\n",
              "          [ 2.6432e-01,  6.7794e-02,  2.8956e-01, -2.4596e-01,  7.0935e-01],\n",
              "          [-7.2905e-01, -5.0699e-01,  3.7649e-02, -3.4881e-02,  2.7175e-03]]],\n",
              "\n",
              "\n",
              "        [[[ 9.2438e-02,  2.9849e-01,  6.6729e-02,  1.3393e-01,  4.0230e-01],\n",
              "          [ 2.1301e-01, -2.0810e-01, -2.4152e-01, -4.8634e-03,  5.4134e-02],\n",
              "          [ 2.4977e-01,  1.1929e-01, -5.4358e-01,  9.3402e-02, -2.6931e-01],\n",
              "          [-2.1634e-01, -1.8877e-01,  3.6214e-02, -9.1024e-02,  2.0240e-01],\n",
              "          [-2.8440e-01,  2.3341e-01, -2.5655e-02,  4.0421e-01,  5.2404e-02]]],\n",
              "\n",
              "\n",
              "        [[[ 7.1108e-02, -8.5754e-01,  5.2573e-03, -1.1454e-01, -2.5740e-01],\n",
              "          [-2.0386e-01, -1.8409e-01,  9.6162e-02,  2.3051e-01,  1.0597e-01],\n",
              "          [ 3.6229e-03,  1.3503e-01,  8.1167e-02,  7.9300e-02,  6.4847e-01],\n",
              "          [ 4.2996e-02, -4.1768e-01, -3.7023e-02, -2.1380e-01, -3.1768e-01],\n",
              "          [-5.6485e-02,  3.8670e-01,  7.8953e-02,  7.3342e-02, -2.6656e-01]]],\n",
              "\n",
              "\n",
              "        [[[-1.7774e-01, -1.0455e-01,  4.6467e-02,  1.4842e-01, -1.2145e-01],\n",
              "          [ 2.8841e-01, -3.0011e-01,  3.7375e-01, -1.2347e-01, -2.7018e-01],\n",
              "          [-1.2251e-01, -8.8636e-02, -3.0072e-01,  3.0256e-02, -1.9506e-01],\n",
              "          [ 5.7698e-01, -3.3659e-01,  4.5365e-02, -7.6748e-02,  7.3108e-01],\n",
              "          [ 4.7759e-02, -1.0384e-01, -2.1243e-01,  3.4113e-01,  1.3851e-01]]],\n",
              "\n",
              "\n",
              "        [[[-7.5099e-02,  3.0439e-01,  1.2110e-01, -2.3145e-02,  8.4000e-02],\n",
              "          [ 3.8175e-01,  3.1001e-01,  1.9564e-01,  4.4119e-01, -1.8373e-01],\n",
              "          [ 2.1535e-02, -7.2079e-02,  5.4908e-01,  3.3277e-01,  6.1883e-02],\n",
              "          [-3.2970e-01, -3.3467e-01, -8.4649e-02, -2.5875e-02,  1.8257e-01],\n",
              "          [ 5.6617e-02, -8.8482e-02,  5.3296e-01, -2.3782e-01, -4.2949e-01]]],\n",
              "\n",
              "\n",
              "        [[[-2.5359e-01,  2.5727e-01, -3.4941e-01, -1.1262e-01, -2.9276e-01],\n",
              "          [-1.8558e-01,  3.4439e-01,  4.7851e-01,  3.8176e-01,  3.1757e-01],\n",
              "          [ 4.2706e-01,  5.5277e-02,  9.4455e-02, -4.4420e-02, -3.8491e-01],\n",
              "          [-1.8176e-01, -3.5707e-01,  2.9949e-02, -5.1680e-02,  5.9835e-02],\n",
              "          [-7.9525e-02,  1.3598e-01,  2.8646e-01, -2.8736e-01, -5.2610e-01]]],\n",
              "\n",
              "\n",
              "        [[[ 4.5110e-01, -8.3242e-02,  1.3956e-01, -5.1154e-01,  6.0122e-02],\n",
              "          [ 2.0736e-01, -2.9019e-01, -4.5674e-01,  5.3492e-01,  3.4977e-01],\n",
              "          [-2.6489e-01,  1.0190e-01,  4.2074e-01,  7.4733e-02, -7.5894e-02],\n",
              "          [ 2.1210e-01, -1.9220e-01,  1.5238e-02, -2.2503e-01,  4.3806e-02],\n",
              "          [ 2.6423e-01,  8.5172e-02,  2.8963e-01, -5.3848e-01,  5.1385e-03]]],\n",
              "\n",
              "\n",
              "        [[[ 1.4730e-01,  1.9905e-01, -9.1214e-02,  2.7719e-01, -1.1579e-01],\n",
              "          [-2.4260e-02, -3.0443e-01, -9.5481e-04,  6.6427e-01, -5.4181e-02],\n",
              "          [ 1.3003e-01,  4.4309e-01, -5.2668e-01,  2.8924e-01,  1.1099e-01],\n",
              "          [ 1.0164e-01, -3.6242e-01,  3.8875e-02,  3.0329e-01,  2.5088e-01],\n",
              "          [ 1.3212e-01,  1.3018e-01, -2.2671e-01, -7.2595e-01,  2.9896e-01]]],\n",
              "\n",
              "\n",
              "        [[[-2.6805e-01,  6.2543e-01, -2.0902e-02,  1.4735e-02, -3.3980e-02],\n",
              "          [-6.1854e-02,  1.2675e-01,  2.0883e-01,  4.0245e-01,  2.2282e-01],\n",
              "          [-9.7294e-02, -1.5243e-01,  2.4892e-01,  3.0168e-01, -3.7084e-02],\n",
              "          [-2.1648e-01,  1.9271e-01,  7.2717e-02,  4.7358e-01,  6.3182e-02],\n",
              "          [-1.4653e-01, -1.7234e-02, -3.6109e-01,  2.2551e-01,  3.4666e-03]]],\n",
              "\n",
              "\n",
              "        [[[-5.3674e-01,  7.6490e-03, -4.3365e-01, -1.1316e-01,  2.5299e-01],\n",
              "          [-1.8051e-01,  2.2194e-02, -3.5851e-01, -5.3103e-01,  1.4645e-01],\n",
              "          [ 1.0851e-01, -5.0304e-02, -1.1268e-01,  2.4934e-01, -3.2990e-01],\n",
              "          [-4.1825e-01,  8.5307e-02,  4.3177e-01, -6.6085e-02,  5.9330e-01],\n",
              "          [-3.4192e-01,  3.9205e-01,  1.1618e-01,  2.3131e-01, -3.1712e-01]]],\n",
              "\n",
              "\n",
              "        [[[-4.5852e-01, -8.8959e-02, -2.0965e-01, -5.2806e-02, -1.0235e-01],\n",
              "          [ 1.1724e-01, -2.8860e-01, -4.3496e-01,  6.4310e-01, -2.2588e-01],\n",
              "          [-1.7639e-01,  7.1139e-02,  2.1825e-01, -9.1214e-03, -4.5741e-01],\n",
              "          [-1.5699e-01,  2.3248e-01, -3.2248e-01, -2.6111e-01,  5.5016e-01],\n",
              "          [-1.6470e-01,  2.8615e-01,  2.0349e-01, -1.2002e-01,  1.1518e-01]]],\n",
              "\n",
              "\n",
              "        [[[ 1.3149e-01,  5.4745e-02,  4.6781e-01,  7.5976e-01,  6.0496e-02],\n",
              "          [ 7.3610e-02, -1.9142e-01, -5.1784e-01,  2.9833e-02,  9.2071e-02],\n",
              "          [ 4.5671e-01,  5.3052e-02, -1.1432e-01,  3.8353e-01, -6.5401e-02],\n",
              "          [-8.7909e-02,  5.3225e-01, -2.7701e-02, -5.5198e-01,  2.9067e-01],\n",
              "          [-1.1833e-01,  3.2000e-01,  1.8010e-01, -5.2400e-02, -3.1338e-02]]]],\n",
              "       requires_grad=True)"
            ]
          },
          "metadata": {
            "tags": []
          },
          "execution_count": 47
        }
      ]
    },
    {
      "metadata": {
        "id": "fw5Ltvh6LIgi",
        "colab_type": "code",
        "colab": {
          "base_uri": "https://localhost:8080/",
          "height": 51
        },
        "outputId": "21bd46d7-2d88-44c1-ae4a-606b495997e4"
      },
      "cell_type": "code",
      "source": [
        "stats(f1(x))"
      ],
      "execution_count": 48,
      "outputs": [
        {
          "output_type": "execute_result",
          "data": {
            "text/plain": [
              "(tensor(0.4616, grad_fn=<MeanBackward1>),\n",
              " tensor(0.9050, grad_fn=<StdBackward0>))"
            ]
          },
          "metadata": {
            "tags": []
          },
          "execution_count": 48
        }
      ]
    },
    {
      "metadata": {
        "id": "OGN-jdPcPoyI",
        "colab_type": "code",
        "colab": {
          "base_uri": "https://localhost:8080/",
          "height": 34
        },
        "outputId": "f49df44f-9b16-40cd-b913-bf5911da0462"
      },
      "cell_type": "code",
      "source": [
        "rec_fs = ll.weight[0,0].numel() #receptive field size. Total no of elements in one layer of the kernel\n",
        "rec_fs"
      ],
      "execution_count": 56,
      "outputs": [
        {
          "output_type": "execute_result",
          "data": {
            "text/plain": [
              "25"
            ]
          },
          "metadata": {
            "tags": []
          },
          "execution_count": 56
        }
      ]
    },
    {
      "metadata": {
        "id": "uv1hRlfrbKDN",
        "colab_type": "code",
        "colab": {
          "base_uri": "https://localhost:8080/",
          "height": 34
        },
        "outputId": "04a203ed-0f93-4547-a236-b54175173d36"
      },
      "cell_type": "code",
      "source": [
        "ll.weight.shape"
      ],
      "execution_count": 57,
      "outputs": [
        {
          "output_type": "execute_result",
          "data": {
            "text/plain": [
              "torch.Size([32, 1, 5, 5])"
            ]
          },
          "metadata": {
            "tags": []
          },
          "execution_count": 57
        }
      ]
    },
    {
      "metadata": {
        "id": "EoyBqaueb-DV",
        "colab_type": "code",
        "colab": {
          "base_uri": "https://localhost:8080/",
          "height": 34
        },
        "outputId": "567f7502-ac33-4159-c75f-390cd1f65e84"
      },
      "cell_type": "code",
      "source": [
        "ll.weight[0].shape"
      ],
      "execution_count": 59,
      "outputs": [
        {
          "output_type": "execute_result",
          "data": {
            "text/plain": [
              "torch.Size([1, 5, 5])"
            ]
          },
          "metadata": {
            "tags": []
          },
          "execution_count": 59
        }
      ]
    },
    {
      "metadata": {
        "id": "n9gs3IP4dln5",
        "colab_type": "code",
        "colab": {
          "base_uri": "https://localhost:8080/",
          "height": 34
        },
        "outputId": "670352ff-5058-4ec6-b3cf-82cad56c8562"
      },
      "cell_type": "code",
      "source": [
        "x[0,0].shape"
      ],
      "execution_count": 73,
      "outputs": [
        {
          "output_type": "execute_result",
          "data": {
            "text/plain": [
              "torch.Size([28, 28])"
            ]
          },
          "metadata": {
            "tags": []
          },
          "execution_count": 73
        }
      ]
    },
    {
      "metadata": {
        "id": "RmVTw6jDTJMd",
        "colab_type": "code",
        "colab": {
          "base_uri": "https://localhost:8080/",
          "height": 34
        },
        "outputId": "0393e93f-6f81-4ec7-8f57-6967743162e9"
      },
      "cell_type": "code",
      "source": [
        "nf,ni,*_ = l1.weight.shape\n",
        "nf,ni"
      ],
      "execution_count": 50,
      "outputs": [
        {
          "output_type": "execute_result",
          "data": {
            "text/plain": [
              "(32, 1)"
            ]
          },
          "metadata": {
            "tags": []
          },
          "execution_count": 50
        }
      ]
    },
    {
      "metadata": {
        "id": "UlxiWp_RTeCJ",
        "colab_type": "code",
        "colab": {
          "base_uri": "https://localhost:8080/",
          "height": 34
        },
        "outputId": "2ea7d4cd-9033-4547-8670-ff77240017e0"
      },
      "cell_type": "code",
      "source": [
        "#fan_in is no of input filters,fan_out is no of output filters\n",
        "fan_in = ni * rec_fs\n",
        "fan_out = nf * rec_fs\n",
        "fan_in,fan_out"
      ],
      "execution_count": 51,
      "outputs": [
        {
          "output_type": "execute_result",
          "data": {
            "text/plain": [
              "(25, 800)"
            ]
          },
          "metadata": {
            "tags": []
          },
          "execution_count": 51
        }
      ]
    },
    {
      "metadata": {
        "id": "z-P7_vmGVeBE",
        "colab_type": "code",
        "colab": {}
      },
      "cell_type": "code",
      "source": [
        "#full formula for Kaiming init\n",
        "def gain(a):\n",
        "    return math.sqrt(2/(1+a**2))"
      ],
      "execution_count": 0,
      "outputs": []
    },
    {
      "metadata": {
        "id": "f0cxyZ7iWN38",
        "colab_type": "code",
        "colab": {
          "base_uri": "https://localhost:8080/",
          "height": 102
        },
        "outputId": "d9ced37f-e0a8-405c-b529-ab31610791b0"
      },
      "cell_type": "code",
      "source": [
        "gain(1),gain(0),gain(0.01),gain(0.1),gain(math.sqrt(5.))"
      ],
      "execution_count": 54,
      "outputs": [
        {
          "output_type": "execute_result",
          "data": {
            "text/plain": [
              "(1.0,\n",
              " 1.4142135623730951,\n",
              " 1.4141428569978354,\n",
              " 1.4071950894605838,\n",
              " 0.5773502691896257)"
            ]
          },
          "metadata": {
            "tags": []
          },
          "execution_count": 54
        }
      ]
    },
    {
      "metadata": {
        "id": "9Dnl3Xwlao_8",
        "colab_type": "code",
        "colab": {}
      },
      "cell_type": "code",
      "source": [
        "#kaiming uniform from scratch\n",
        "def kaiming_uniform(x,a,use_fan_out=False):\n",
        "    nf,ni,*_ = x.shape\n",
        "    rec_fs = x[0,0].shape.numel()\n",
        "    fan = nf*rec_fs if use_fan_out else ni*rec_fs\n",
        "    print(fan)\n",
        "    std = gain(a) / math.sqrt(fan)\n",
        "    bound = math.sqrt(3.) * std\n",
        "    x.data.uniform_(-bound,bound)\n",
        "    \n",
        "    "
      ],
      "execution_count": 0,
      "outputs": []
    },
    {
      "metadata": {
        "id": "6iL3CNWhcrB4",
        "colab_type": "code",
        "colab": {
          "base_uri": "https://localhost:8080/",
          "height": 68
        },
        "outputId": "aba61613-a60b-444a-bfbb-eeb4d93a1ec5"
      },
      "cell_type": "code",
      "source": [
        "kaiming_uniform(l1.weight, a=0);\n",
        "stats(f1(x))"
      ],
      "execution_count": 77,
      "outputs": [
        {
          "output_type": "stream",
          "text": [
            "25\n"
          ],
          "name": "stdout"
        },
        {
          "output_type": "execute_result",
          "data": {
            "text/plain": [
              "(tensor(0.4616, grad_fn=<MeanBackward1>),\n",
              " tensor(0.9050, grad_fn=<StdBackward0>))"
            ]
          },
          "metadata": {
            "tags": []
          },
          "execution_count": 77
        }
      ]
    },
    {
      "metadata": {
        "id": "5yGL8c3qdHhz",
        "colab_type": "code",
        "colab": {
          "base_uri": "https://localhost:8080/",
          "height": 68
        },
        "outputId": "e8544659-dacf-41b2-e805-a195cff01b08"
      },
      "cell_type": "code",
      "source": [
        "kaiming_uniform(l1.weight, a=math.sqrt(5.))\n",
        "stats(f1(x))"
      ],
      "execution_count": 78,
      "outputs": [
        {
          "output_type": "stream",
          "text": [
            "25\n"
          ],
          "name": "stdout"
        },
        {
          "output_type": "execute_result",
          "data": {
            "text/plain": [
              "(tensor(0.4616, grad_fn=<MeanBackward1>),\n",
              " tensor(0.9050, grad_fn=<StdBackward0>))"
            ]
          },
          "metadata": {
            "tags": []
          },
          "execution_count": 78
        }
      ]
    },
    {
      "metadata": {
        "id": "0ZukR9nne1jE",
        "colab_type": "code",
        "colab": {
          "base_uri": "https://localhost:8080/",
          "height": 34
        },
        "outputId": "8cfb18eb-3ac4-4bcf-d64a-6fb29b8eec13"
      },
      "cell_type": "code",
      "source": [
        "gain(math.sqrt(5.))/math.sqrt(25)"
      ],
      "execution_count": 79,
      "outputs": [
        {
          "output_type": "execute_result",
          "data": {
            "text/plain": [
              "0.11547005383792515"
            ]
          },
          "metadata": {
            "tags": []
          },
          "execution_count": 79
        }
      ]
    },
    {
      "metadata": {
        "id": "6pDF971Vgoiw",
        "colab_type": "text"
      },
      "cell_type": "markdown",
      "source": [
        "**I reinitalized Layer_1 conv because I've been initializing weights a lot so don't want the output to get mucked up**"
      ]
    },
    {
      "metadata": {
        "id": "NwOAPXZ4f9t-",
        "colab_type": "code",
        "colab": {}
      },
      "cell_type": "code",
      "source": [
        "layer_1 = Conv2d(1, 32, 5)"
      ],
      "execution_count": 0,
      "outputs": []
    },
    {
      "metadata": {
        "id": "Z4W7toFCf0ve",
        "colab_type": "code",
        "colab": {
          "base_uri": "https://localhost:8080/",
          "height": 34
        },
        "outputId": "63db6fc1-1bf6-4915-db59-f629d6935752"
      },
      "cell_type": "code",
      "source": [
        "kaiming_uniform(layer_1.weight, a=math.sqrt(5.))"
      ],
      "execution_count": 82,
      "outputs": [
        {
          "output_type": "stream",
          "text": [
            "25\n"
          ],
          "name": "stdout"
        }
      ]
    },
    {
      "metadata": {
        "id": "Ts9FzxM5f8_s",
        "colab_type": "code",
        "colab": {}
      },
      "cell_type": "code",
      "source": [
        "def f1(x,a=0):\n",
        "    return F.leaky_relu(layer_1(x),a)"
      ],
      "execution_count": 0,
      "outputs": []
    },
    {
      "metadata": {
        "id": "1zpFd4Kygaxu",
        "colab_type": "code",
        "colab": {
          "base_uri": "https://localhost:8080/",
          "height": 51
        },
        "outputId": "896ec402-a288-4916-c539-4be54f53e187"
      },
      "cell_type": "code",
      "source": [
        "stats(f1(x))"
      ],
      "execution_count": 85,
      "outputs": [
        {
          "output_type": "execute_result",
          "data": {
            "text/plain": [
              "(tensor(0.2223, grad_fn=<MeanBackward1>),\n",
              " tensor(0.3848, grad_fn=<StdBackward0>))"
            ]
          },
          "metadata": {
            "tags": []
          },
          "execution_count": 85
        }
      ]
    },
    {
      "metadata": {
        "id": "7K8vpHfSsjBI",
        "colab_type": "code",
        "colab": {}
      },
      "cell_type": "code",
      "source": [
        ""
      ],
      "execution_count": 0,
      "outputs": []
    },
    {
      "metadata": {
        "id": "jI2aX1Zvsjt8",
        "colab_type": "text"
      },
      "cell_type": "markdown",
      "source": [
        "** The above codebook was meant to highlight why it's necessary to have a good weight initialization. A good initialization is better than the regularization techniques and helps in faster convergence and help in vanishing and exploding gradients**"
      ]
    },
    {
      "metadata": {
        "id": "SnklhWjRu6mO",
        "colab_type": "code",
        "colab": {}
      },
      "cell_type": "code",
      "source": [
        "import torch"
      ],
      "execution_count": 0,
      "outputs": []
    },
    {
      "metadata": {
        "id": "RRtJdkUIu8rZ",
        "colab_type": "code",
        "colab": {}
      },
      "cell_type": "code",
      "source": [
        "x = torch.randn(512)\n",
        "a = torch.randn(512,512)"
      ],
      "execution_count": 0,
      "outputs": []
    },
    {
      "metadata": {
        "id": "CNWy1pbOvGbD",
        "colab_type": "code",
        "colab": {}
      },
      "cell_type": "code",
      "source": [
        "for i in range(100): x = a @ x"
      ],
      "execution_count": 0,
      "outputs": []
    },
    {
      "metadata": {
        "id": "laO5tTxevl65",
        "colab_type": "code",
        "colab": {
          "base_uri": "https://localhost:8080/",
          "height": 34
        },
        "outputId": "02e12d36-507b-4454-aaf6-4994c6632b2e"
      },
      "cell_type": "code",
      "source": [
        "x.mean(),x.std() #activation explosion"
      ],
      "execution_count": 89,
      "outputs": [
        {
          "output_type": "execute_result",
          "data": {
            "text/plain": [
              "(tensor(nan), tensor(nan))"
            ]
          },
          "metadata": {
            "tags": []
          },
          "execution_count": 89
        }
      ]
    },
    {
      "metadata": {
        "id": "xu-TvYUVzNCd",
        "colab_type": "code",
        "colab": {}
      },
      "cell_type": "code",
      "source": [
        "x = torch.randn(512)\n",
        "a = torch.randn(512,512)"
      ],
      "execution_count": 0,
      "outputs": []
    },
    {
      "metadata": {
        "id": "IxJT7K2vzPyC",
        "colab_type": "code",
        "colab": {}
      },
      "cell_type": "code",
      "source": [
        "for i in range(100): \n",
        "    x = a @ x\n",
        "    if x.std() != x.std(): break"
      ],
      "execution_count": 0,
      "outputs": []
    },
    {
      "metadata": {
        "id": "ykMCILkKzR__",
        "colab_type": "code",
        "colab": {
          "base_uri": "https://localhost:8080/",
          "height": 34
        },
        "outputId": "34d4ed77-2b5e-4158-b232-baa8748a66cc"
      },
      "cell_type": "code",
      "source": [
        "i"
      ],
      "execution_count": 92,
      "outputs": [
        {
          "output_type": "execute_result",
          "data": {
            "text/plain": [
              "27"
            ]
          },
          "metadata": {
            "tags": []
          },
          "execution_count": 92
        }
      ]
    },
    {
      "metadata": {
        "id": "WLidjdEWri54",
        "colab_type": "text"
      },
      "cell_type": "markdown",
      "source": [
        "**MAgic numbers for scaling**"
      ]
    },
    {
      "metadata": {
        "id": "7OUwa1wp-r02",
        "colab_type": "code",
        "colab": {}
      },
      "cell_type": "code",
      "source": [
        "import math\n",
        "import torch"
      ],
      "execution_count": 0,
      "outputs": []
    },
    {
      "metadata": {
        "id": "sZ7iNw5vrF5-",
        "colab_type": "code",
        "colab": {}
      },
      "cell_type": "code",
      "source": [
        "x = torch.randn(512)\n",
        "a = torch.randn(512,512) / math.sqrt(512)"
      ],
      "execution_count": 0,
      "outputs": []
    },
    {
      "metadata": {
        "id": "oCIamm8frls2",
        "colab_type": "code",
        "colab": {}
      },
      "cell_type": "code",
      "source": [
        "for i in range(100): x = a @ x"
      ],
      "execution_count": 0,
      "outputs": []
    },
    {
      "metadata": {
        "id": "Fc9yWmzXrqKc",
        "colab_type": "code",
        "colab": {
          "base_uri": "https://localhost:8080/",
          "height": 34
        },
        "outputId": "a527dd3b-5d5f-4980-c928-164ea0f7c835"
      },
      "cell_type": "code",
      "source": [
        "x.mean(),x.std()"
      ],
      "execution_count": 8,
      "outputs": [
        {
          "output_type": "execute_result",
          "data": {
            "text/plain": [
              "(tensor(-0.0823), tensor(1.9962))"
            ]
          },
          "metadata": {
            "tags": []
          },
          "execution_count": 8
        }
      ]
    },
    {
      "metadata": {
        "id": "M16OQYe4uGVZ",
        "colab_type": "code",
        "colab": {
          "base_uri": "https://localhost:8080/",
          "height": 34
        },
        "outputId": "7c4ba1a1-ee74-4d88-a541-0313e8f81f09"
      },
      "cell_type": "code",
      "source": [
        "1/ math.sqrt(512)"
      ],
      "execution_count": 9,
      "outputs": [
        {
          "output_type": "execute_result",
          "data": {
            "text/plain": [
              "0.044194173824159216"
            ]
          },
          "metadata": {
            "tags": []
          },
          "execution_count": 9
        }
      ]
    },
    {
      "metadata": {
        "id": "EIwuZS0BydB9",
        "colab_type": "code",
        "colab": {
          "base_uri": "https://localhost:8080/",
          "height": 34
        },
        "outputId": "82511615-6988-407f-d3ac-2299914e2ac8"
      },
      "cell_type": "code",
      "source": [
        "x = torch.randn(512)\n",
        "x.mean(), x.std()"
      ],
      "execution_count": 10,
      "outputs": [
        {
          "output_type": "execute_result",
          "data": {
            "text/plain": [
              "(tensor(0.0339), tensor(1.0404))"
            ]
          },
          "metadata": {
            "tags": []
          },
          "execution_count": 10
        }
      ]
    },
    {
      "metadata": {
        "id": "BoBWk4EByprJ",
        "colab_type": "code",
        "colab": {
          "base_uri": "https://localhost:8080/",
          "height": 34
        },
        "outputId": "e05650e6-da66-49a8-fe56-15218f85f85f"
      },
      "cell_type": "code",
      "source": [
        "mean,sqr = 0.,0.\n",
        "for i in range(100):\n",
        "    x = torch.randn(512)\n",
        "    a = torch.randn(512, 512)\n",
        "    y = a @ x\n",
        "    mean += y.mean().item()\n",
        "    sqr  += y.pow(2).mean().item()\n",
        "mean/100,sqr/100"
      ],
      "execution_count": 11,
      "outputs": [
        {
          "output_type": "execute_result",
          "data": {
            "text/plain": [
              "(-0.08444532558321953, 515.4477819824219)"
            ]
          },
          "metadata": {
            "tags": []
          },
          "execution_count": 11
        }
      ]
    },
    {
      "metadata": {
        "id": "MJlX4bfty7I-",
        "colab_type": "code",
        "colab": {
          "base_uri": "https://localhost:8080/",
          "height": 34
        },
        "outputId": "49dd8dfe-dc0f-4246-ea1b-9033f0bffb96"
      },
      "cell_type": "code",
      "source": [
        "mean,sqr = 0.,0.\n",
        "for i in range(10000):\n",
        "    x = torch.randn(1)\n",
        "    a = torch.randn(1)\n",
        "    y = a*x\n",
        "    mean += y.item()\n",
        "    sqr  += y.pow(2).item()\n",
        "mean/10000,sqr/10000"
      ],
      "execution_count": 12,
      "outputs": [
        {
          "output_type": "execute_result",
          "data": {
            "text/plain": [
              "(0.0014217505105136752, 0.9758755518180838)"
            ]
          },
          "metadata": {
            "tags": []
          },
          "execution_count": 12
        }
      ]
    }
  ]
}