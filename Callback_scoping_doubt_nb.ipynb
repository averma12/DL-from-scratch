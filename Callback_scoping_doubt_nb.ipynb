{
 "cells": [
  {
   "cell_type": "code",
   "execution_count": 1,
   "metadata": {},
   "outputs": [],
   "source": [
    "import re\n",
    "\n",
    "_camel_re1 = re.compile('(.)([A-Z][a-z]+)')\n",
    "_camel_re2 = re.compile('([a-z0-9])([A-Z])')\n",
    "def camel2snake(name):\n",
    "    s1 = re.sub(_camel_re1, r'\\1_\\2', name)\n",
    "    return re.sub(_camel_re2, r'\\1_\\2', s1).lower()\n",
    "\n",
    "class Callback():\n",
    "    _order=0\n",
    "    def set_runner(self, run): self.run=run\n",
    "    def __getattr__(self, k):\n",
    "        print(\"Getattr of parent callback called\")\n",
    "        return getattr(self.run, k)\n",
    "    @property\n",
    "    def name(self):\n",
    "        name = re.sub(r'Callback$', '', self.__class__.__name__)\n",
    "        return camel2snake(name or 'callback')"
   ]
  },
  {
   "cell_type": "code",
   "execution_count": 85,
   "metadata": {},
   "outputs": [],
   "source": [
    "class TrainEvalCallback(Callback):\n",
    "    def begin_fit(self):\n",
    "        self.run.n_epochs=0.\n",
    "        self.run.n_iter=0\n",
    "    \n",
    "    def after_batch(self):\n",
    "        if not self.in_train: return\n",
    "        self.run.n_epochs += 1./self.iters\n",
    "        self.run.n_iter   += 1\n",
    "        \n",
    "    def begin_epoch(self):\n",
    "        print(dir(self))\n",
    "        self.run.n_epochs=0\n",
    "        print(self.run,\"Hello\")\n",
    "        print(self.a)\n",
    "        print(self.model)\n",
    "        self.run.in_train=True\n",
    "\n",
    "    def begin_validate(self):\n",
    "        self.model.eval()\n",
    "        self.run.in_train=False"
   ]
  },
  {
   "cell_type": "code",
   "execution_count": 86,
   "metadata": {},
   "outputs": [],
   "source": [
    "from typing import *\n",
    "\n",
    "def listify(o):\n",
    "    if o is None: return []\n",
    "    if isinstance(o, list): return o\n",
    "    if isinstance(o, Iterable): return list(o)\n",
    "    return [o]"
   ]
  },
  {
   "cell_type": "code",
   "execution_count": 87,
   "metadata": {},
   "outputs": [],
   "source": [
    "class Runner:\n",
    "    \"\"\"\n",
    "    Contains the one_batch,all_batches and fit function\n",
    "    \"\"\"\n",
    "    \n",
    "    def __init__(self, cbs=None, cb_funcs=None):\n",
    "        cbs = listify(cbs)\n",
    "        \n",
    "        self.stop,self.cbs = False,[TrainEvalCallback()]+cbs\n",
    "    \n",
    "    @property\n",
    "    def model(self):     return \"This is a model\"\n",
    "        \n",
    "    def __call__(self, cb_name):\n",
    "        for cb in sorted(self.cbs, key=lambda x: x._order):\n",
    "            f = getattr(cb, cb_name, None)\n",
    "            print(\"callable\")\n",
    "            print(f)\n",
    "            if f and f(): return True\n",
    "        return False\n",
    "    \n",
    "    def fit(self):\n",
    "        print(self.cbs)\n",
    "        for cb in self.cbs:\n",
    "            cb.set_runner(self)\n",
    "            self.a = \"Abhinav\"\n",
    "            if not self(\"begin_epoch\"):\n",
    "                print(cb.n_epochs,\"n_epochs\")\n",
    "                \n",
    "            \n",
    "        "
   ]
  },
  {
   "cell_type": "code",
   "execution_count": 88,
   "metadata": {},
   "outputs": [],
   "source": [
    "run = Runner()"
   ]
  },
  {
   "cell_type": "code",
   "execution_count": 89,
   "metadata": {},
   "outputs": [
    {
     "name": "stdout",
     "output_type": "stream",
     "text": [
      "[<__main__.TrainEvalCallback object at 0x10f2d17b8>]\n",
      "callable\n",
      "<bound method TrainEvalCallback.begin_epoch of <__main__.TrainEvalCallback object at 0x10f2d17b8>>\n",
      "['__class__', '__delattr__', '__dict__', '__dir__', '__doc__', '__eq__', '__format__', '__ge__', '__getattr__', '__getattribute__', '__gt__', '__hash__', '__init__', '__init_subclass__', '__le__', '__lt__', '__module__', '__ne__', '__new__', '__reduce__', '__reduce_ex__', '__repr__', '__setattr__', '__sizeof__', '__str__', '__subclasshook__', '__weakref__', '_order', 'after_batch', 'begin_epoch', 'begin_fit', 'begin_validate', 'name', 'run', 'set_runner']\n",
      "<__main__.Runner object at 0x10f2d1940> Hello\n",
      "Getattr of parent callback called\n",
      "Abhinav\n",
      "Getattr of parent callback called\n",
      "This is a model\n",
      "Getattr of parent callback called\n",
      "0 n_epochs\n"
     ]
    }
   ],
   "source": [
    "\n",
    "run.fit()"
   ]
  },
  {
   "cell_type": "code",
   "execution_count": null,
   "metadata": {},
   "outputs": [],
   "source": []
  }
 ],
 "metadata": {
  "kernelspec": {
   "display_name": "Python 3",
   "language": "python",
   "name": "python3"
  },
  "language_info": {
   "codemirror_mode": {
    "name": "ipython",
    "version": 3
   },
   "file_extension": ".py",
   "mimetype": "text/x-python",
   "name": "python",
   "nbconvert_exporter": "python",
   "pygments_lexer": "ipython3",
   "version": "3.7.1"
  }
 },
 "nbformat": 4,
 "nbformat_minor": 2
}
